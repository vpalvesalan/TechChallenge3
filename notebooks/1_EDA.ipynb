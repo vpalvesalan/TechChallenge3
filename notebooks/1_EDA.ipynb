{
 "cells": [
  {
   "cell_type": "markdown",
   "id": "f00fbf33",
   "metadata": {},
   "source": [
    "# Tech Challenge Fase 3 - EDA\n",
    "## Pós-graduação em Machine Learning\n",
    "**Autor**: Alan Alves  \n",
    "**Data**: 26/10/2025"
   ]
  },
  {
   "cell_type": "code",
   "execution_count": 1,
   "id": "d0818de8",
   "metadata": {},
   "outputs": [],
   "source": [
    "# Carrega Módulos\n",
    "import pandas as pd\n",
    "from pathlib import Path\n",
    "from datetime import datetime\n",
    "import sys"
   ]
  },
  {
   "cell_type": "code",
   "execution_count": 2,
   "id": "95d7c79e",
   "metadata": {},
   "outputs": [
    {
     "name": "stdout",
     "output_type": "stream",
     "text": [
      "Endereço raiz: /Users/alan/Data Science Projects/TechChallenge3\n"
     ]
    }
   ],
   "source": [
    "# Configurações\n",
    "PROJECT_ROOT = Path.cwd().parent\n",
    "DATA_DIR = PROJECT_ROOT / \"data\"\n",
    "print(f\"Endereço raiz: {PROJECT_ROOT}\")"
   ]
  },
  {
   "cell_type": "code",
   "execution_count": 3,
   "id": "0f7170a2",
   "metadata": {},
   "outputs": [],
   "source": [
    "# Carrega módulos \n",
    "sys.path.append(str(Path.cwd().parent))\n",
    "from src.utils import glimpse"
   ]
  },
  {
   "cell_type": "markdown",
   "id": "5b09dc8b",
   "metadata": {},
   "source": [
    "### Inspeção Inicial"
   ]
  },
  {
   "cell_type": "code",
   "execution_count": 4,
   "id": "abb0d614",
   "metadata": {},
   "outputs": [
    {
     "name": "stderr",
     "output_type": "stream",
     "text": [
      "/var/folders/6x/tz4_svyx1mv9mc68z3jl0_s00000gn/T/ipykernel_8548/3948680493.py:9: DtypeWarning: Columns (7,8) have mixed types. Specify dtype option on import or set low_memory=False.\n",
      "  flights_df = pd.read_csv(flights_path)\n"
     ]
    },
    {
     "name": "stdout",
     "output_type": "stream",
     "text": [
      "Dados carregados com sucesso em 22 seconds.\n"
     ]
    }
   ],
   "source": [
    "# Load data\n",
    "airlines_path = DATA_DIR / \"airlines.csv\"\n",
    "airport_path = DATA_DIR / \"airports.csv\"\n",
    "flights_path = DATA_DIR / \"flights.csv\"\n",
    "\n",
    "start_time = datetime.now()\n",
    "airlines_df = pd.read_csv(airlines_path)\n",
    "airports_df = pd.read_csv(airport_path)\n",
    "flights_df = pd.read_csv(flights_path)\n",
    "end_time = datetime.now()\n",
    "\n",
    "print(f\"Dados carregados com sucesso em {((end_time-start_time).seconds)} seconds.\")\n"
   ]
  },
  {
   "cell_type": "code",
   "execution_count": 5,
   "id": "70a30207",
   "metadata": {},
   "outputs": [
    {
     "name": "stdout",
     "output_type": "stream",
     "text": [
      "Airlines dataframe:\n",
      "Rows: 14\n",
      "Columns: 2\n",
      "           Null Count  Dtype   First Values\n",
      "           ----------  -----   -------------\n",
      "IATA_CODE  0           object  [UA, AA, US, F9, B6]\n",
      "AIRLINE    0           object  [United Air Lines Inc., American Airlines Inc., US Airways Inc., Frontier Airlines Inc., JetBlue Airways]\n",
      "\n",
      "Airports dataframe:\n",
      "Rows: 322\n",
      "Columns: 7\n",
      "           Null Count  Dtype    First Values\n",
      "           ----------  -----    -------------\n",
      "IATA_CODE  0           object   [ABE, ABI, ABQ, ABR, ABY]\n",
      "AIRPORT    0           object   [Lehigh Valley International Airport, Abilene Regional Airport, Albuquerque International Sunport, Aberdeen Regional Airport, Southwest Georgia Regional Airport]\n",
      "CITY       0           object   [Allentown, Abilene, Albuquerque, Aberdeen, Albany]\n",
      "STATE      0           object   [PA, TX, NM, SD, GA]\n",
      "COUNTRY    0           object   [USA, USA, USA, USA, USA]\n",
      "LATITUDE   3           float64  [40.65236, 32.41132, 35.04022, 45.44906, 31.53552]\n",
      "LONGITUDE  3           float64  [-75.4404, -99.6819, -106.60919, -98.42183, -84.19447]\n",
      "\n",
      "Flights dataframe:\n",
      "Rows: 5819079\n",
      "Columns: 31\n",
      "                     Null Count  Dtype    First Values\n",
      "                     ----------  -----    -------------\n",
      "YEAR                 0           int64    [2015, 2015, 2015, 2015, 2015]\n",
      "MONTH                0           int64    [1, 1, 1, 1, 1]\n",
      "DAY                  0           int64    [1, 1, 1, 1, 1]\n",
      "DAY_OF_WEEK          0           int64    [4, 4, 4, 4, 4]\n",
      "AIRLINE              0           object   [AS, AA, US, AA, AS]\n",
      "FLIGHT_NUMBER        0           int64    [98, 2336, 840, 258, 135]\n",
      "TAIL_NUMBER          14721       object   [N407AS, N3KUAA, N171US, N3HYAA, N527AS]\n",
      "ORIGIN_AIRPORT       0           object   [ANC, LAX, SFO, LAX, SEA]\n",
      "DESTINATION_AIRPORT  0           object   [SEA, PBI, CLT, MIA, ANC]\n",
      "SCHEDULED_DEPARTURE  0           int64    [5, 10, 20, 20, 25]\n",
      "DEPARTURE_TIME       86153       float64  [2354.0, 2.0, 18.0, 15.0, 24.0]\n",
      "DEPARTURE_DELAY      86153       float64  [-11.0, -8.0, -2.0, -5.0, -1.0]\n",
      "TAXI_OUT             89047       float64  [21.0, 12.0, 16.0, 15.0, 11.0]\n",
      "WHEELS_OFF           89047       float64  [15.0, 14.0, 34.0, 30.0, 35.0]\n",
      "SCHEDULED_TIME       6           float64  [205.0, 280.0, 286.0, 285.0, 235.0]\n",
      "ELAPSED_TIME         105071      float64  [194.0, 279.0, 293.0, 281.0, 215.0]\n",
      "AIR_TIME             105071      float64  [169.0, 263.0, 266.0, 258.0, 199.0]\n",
      "DISTANCE             0           int64    [1448, 2330, 2296, 2342, 1448]\n",
      "WHEELS_ON            92513       float64  [404.0, 737.0, 800.0, 748.0, 254.0]\n",
      "TAXI_IN              92513       float64  [4.0, 4.0, 11.0, 8.0, 5.0]\n",
      "SCHEDULED_ARRIVAL    0           int64    [430, 750, 806, 805, 320]\n",
      "ARRIVAL_TIME         92513       float64  [408.0, 741.0, 811.0, 756.0, 259.0]\n",
      "ARRIVAL_DELAY        105071      float64  [-22.0, -9.0, 5.0, -9.0, -21.0]\n",
      "DIVERTED             0           int64    [0, 0, 0, 0, 0]\n",
      "CANCELLED            0           int64    [0, 0, 0, 0, 0]\n",
      "CANCELLATION_REASON  5729195     object   [nan, nan, nan, nan, nan]\n",
      "AIR_SYSTEM_DELAY     4755640     float64  [nan, nan, nan, nan, nan]\n",
      "SECURITY_DELAY       4755640     float64  [nan, nan, nan, nan, nan]\n",
      "AIRLINE_DELAY        4755640     float64  [nan, nan, nan, nan, nan]\n",
      "LATE_AIRCRAFT_DELAY  4755640     float64  [nan, nan, nan, nan, nan]\n",
      "WEATHER_DELAY        4755640     float64  [nan, nan, nan, nan, nan]\n"
     ]
    }
   ],
   "source": [
    "print(\"Airlines dataframe:\")\n",
    "glimpse(airlines_df)\n",
    "print(\"\\nAirports dataframe:\")\n",
    "glimpse(airports_df)\n",
    "print(\"\\nFlights dataframe:\")\n",
    "glimpse(flights_df)"
   ]
  },
  {
   "cell_type": "markdown",
   "id": "7b1118c1",
   "metadata": {},
   "source": [
    "**Preparação Inicial dos Dados**  \n",
    "\n",
    "Os dados contém três tabelas:\n",
    "* `flihgts_df`(voos): é a principal tabel a e contém informação detalhada de cada voo. \n",
    "* `airlines_df`: traz o nomes da empresas de aviações.\n",
    "* `airports_df` (aeroportos): traz informações sobre os aeroportos como por exemplo cidade, país etc.\n",
    "\n",
    "**Obs.:** Existe varias colunas com falta de dados e algumas delas faltam dados para a maior parte das observações. \n",
    "\n",
    "O próximo passo é fazer a junção dessas três tabelas."
   ]
  },
  {
   "cell_type": "code",
   "execution_count": null,
   "id": "a9e48146",
   "metadata": {},
   "outputs": [
    {
     "name": "stdout",
     "output_type": "stream",
     "text": [
      "Tabela com associações realizadas:\n",
      "<class 'pandas.core.frame.DataFrame'>\n",
      "Index: 5332914 entries, 0 to 5332913\n",
      "Data columns (total 44 columns):\n",
      " #   Column               Dtype  \n",
      "---  ------               -----  \n",
      " 0   YEAR                 int64  \n",
      " 1   MONTH                int64  \n",
      " 2   DAY                  int64  \n",
      " 3   DAY_OF_WEEK          int64  \n",
      " 4   FLIGHT_NUMBER        int64  \n",
      " 5   TAIL_NUMBER          object \n",
      " 6   ORIGIN_AIRPORT       object \n",
      " 7   DESTINATION_AIRPORT  object \n",
      " 8   SCHEDULED_DEPARTURE  int64  \n",
      " 9   DEPARTURE_TIME       float64\n",
      " 10  DEPARTURE_DELAY      float64\n",
      " 11  TAXI_OUT             float64\n",
      " 12  WHEELS_OFF           float64\n",
      " 13  SCHEDULED_TIME       float64\n",
      " 14  ELAPSED_TIME         float64\n",
      " 15  AIR_TIME             float64\n",
      " 16  DISTANCE             int64  \n",
      " 17  WHEELS_ON            float64\n",
      " 18  TAXI_IN              float64\n",
      " 19  SCHEDULED_ARRIVAL    int64  \n",
      " 20  ARRIVAL_TIME         float64\n",
      " 21  ARRIVAL_DELAY        float64\n",
      " 22  DIVERTED             int64  \n",
      " 23  CANCELLED            int64  \n",
      " 24  CANCELLATION_REASON  object \n",
      " 25  AIR_SYSTEM_DELAY     float64\n",
      " 26  SECURITY_DELAY       float64\n",
      " 27  AIRLINE_DELAY        float64\n",
      " 28  LATE_AIRCRAFT_DELAY  float64\n",
      " 29  WEATHER_DELAY        float64\n",
      " 30  ORIGIN_AIRLINE       object \n",
      " 31  ORIGIN_AIRPORT       object \n",
      " 32  ORIGIN_CITY          object \n",
      " 33  ORIGIN_STATE         object \n",
      " 34  ORIGIN_COUNTRY       object \n",
      " 35  ORIGIN_LATITUDE      float64\n",
      " 36  ORIGIN_LONGITUDE     float64\n",
      " 37  IATA_CODE            object \n",
      " 38  DEST_AIRPORT         object \n",
      " 39  DEST_CITY            object \n",
      " 40  DEST_STATE           object \n",
      " 41  DEST_COUNTRY         object \n",
      " 42  DEST_LATITUDE        float64\n",
      " 43  DEST_LONGITUDE       float64\n",
      "dtypes: float64(20), int64(10), object(14)\n",
      "memory usage: 1.8+ GB\n"
     ]
    }
   ],
   "source": [
    "# Preparação Inicial - junção das três tabelas\n",
    "\n",
    "# flights com airlines e flight com airports (origem)\n",
    "df = pd.merge(flights_df, airlines_df, left_on='AIRLINE', right_on='IATA_CODE').merge(airports_df, left_on= 'ORIGIN_AIRPORT', right_on= 'IATA_CODE')\n",
    "\n",
    "def make_airport_columns_names(prefix):\n",
    "    new_names_dict = {'AIRLINE_y':f'{prefix}_AIRLINE', 'AIRPORT':f'{prefix}_AIRPORT', 'CITY':f'{prefix}_CITY',\n",
    "                      'STATE':f'{prefix}_STATE', 'COUNTRY':f'{prefix}_COUNTRY', 'LATITUDE':f'{prefix}_LATITUDE','LONGITUDE':f'{prefix}_LONGITUDE'}\n",
    "    return new_names_dict\n",
    "\n",
    "drop_columns = ['AIRLINE_x', 'IATA_CODE_y','IATA_CODE_x']\n",
    "df.drop(columns=drop_columns, inplace=True)\n",
    "\n",
    "df.rename(columns = make_airport_columns_names('ORIGIN'), inplace=True)\n",
    "\n",
    "# Flight com airports (destino)\n",
    "df = df.merge(airports_df, left_on='DESTINATION_AIRPORT', right_on='IATA_CODE').rename(make_airport_columns_names('DESTINATION'))\n",
    "df = df.rename(columns = make_airport_columns_names('DEST')).drop(columns=['IATA_CODE'])\n",
    "print('Tabela com associações realizadas:')\n",
    "df.info()"
   ]
  },
  {
   "cell_type": "code",
   "execution_count": null,
   "id": "3e777876",
   "metadata": {},
   "outputs": [],
   "source": []
  }
 ],
 "metadata": {
  "kernelspec": {
   "display_name": "base",
   "language": "python",
   "name": "python3"
  },
  "language_info": {
   "codemirror_mode": {
    "name": "ipython",
    "version": 3
   },
   "file_extension": ".py",
   "mimetype": "text/x-python",
   "name": "python",
   "nbconvert_exporter": "python",
   "pygments_lexer": "ipython3",
   "version": "3.12.4"
  }
 },
 "nbformat": 4,
 "nbformat_minor": 5
}
