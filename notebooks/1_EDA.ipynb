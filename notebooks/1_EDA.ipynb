{
 "cells": [
  {
   "cell_type": "markdown",
   "id": "f00fbf33",
   "metadata": {},
   "source": [
    "# Tech Challenge Fase 3 - EDA\n",
    "## Pós-graduação em Machine Learning\n",
    "**Autor**: Alan Alves  \n",
    "**Data**: 26/10/2025"
   ]
  },
  {
   "cell_type": "code",
   "execution_count": null,
   "id": "d0818de8",
   "metadata": {},
   "outputs": [],
   "source": [
    "# Carrega Módulos\n",
    "import pandas as pd\n",
    "from pathlib import Path\n",
    "from datetime import datetime"
   ]
  },
  {
   "cell_type": "code",
   "execution_count": 26,
   "id": "95d7c79e",
   "metadata": {},
   "outputs": [
    {
     "name": "stdout",
     "output_type": "stream",
     "text": [
      "Endereço raiz: /Users/alan/Data Science Projects/TechChallenge3\n"
     ]
    }
   ],
   "source": [
    "# Configurações\n",
    "PROJECT_ROOT = Path.cwd().parent\n",
    "DATA_DIR = PROJECT_ROOT / \"data\"\n",
    "print(f\"Endereço raiz: {PROJECT_ROOT}\")"
   ]
  },
  {
   "cell_type": "markdown",
   "id": "5b09dc8b",
   "metadata": {},
   "source": [
    "### Inspeção Inicial"
   ]
  },
  {
   "cell_type": "code",
   "execution_count": null,
   "id": "abb0d614",
   "metadata": {},
   "outputs": [
    {
     "name": "stderr",
     "output_type": "stream",
     "text": [
      "/var/folders/6x/tz4_svyx1mv9mc68z3jl0_s00000gn/T/ipykernel_2808/3452739918.py:10: DtypeWarning: Columns (7,8) have mixed types. Specify dtype option on import or set low_memory=False.\n",
      "  flights_df = pd.read_csv(flights_path)\n"
     ]
    },
    {
     "name": "stdout",
     "output_type": "stream",
     "text": [
      "Dados carregados com sucesso em 23 seconds.\n"
     ]
    }
   ],
   "source": [
    "# Load data\n",
    "airlines_path = DATA_DIR / \"airlines.csv\"\n",
    "airport_path = DATA_DIR / \"airports.csv\"\n",
    "flights_path = DATA_DIR / \"flights.csv\"\n",
    "\n",
    "start_time = datetime.now()\n",
    "airlines_df = pd.read_csv(airlines_path)\n",
    "airport_df = pd.read_csv(airport_path)\n",
    "flights_df = pd.read_csv(flights_path)\n",
    "end_time = datetime.now()\n",
    "\n",
    "print(f\"Dados carregados com sucesso em {((end_time-start_time).seconds)} seconds.\")\n"
   ]
  }
 ],
 "metadata": {
  "kernelspec": {
   "display_name": "base",
   "language": "python",
   "name": "python3"
  },
  "language_info": {
   "codemirror_mode": {
    "name": "ipython",
    "version": 3
   },
   "file_extension": ".py",
   "mimetype": "text/x-python",
   "name": "python",
   "nbconvert_exporter": "python",
   "pygments_lexer": "ipython3",
   "version": "3.12.4"
  }
 },
 "nbformat": 4,
 "nbformat_minor": 5
}
